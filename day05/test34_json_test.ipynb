{
 "cells": [
  {
   "cell_type": "markdown",
   "metadata": {},
   "source": [
    "## JSON Input/Output\n",
    "Json 읽고 쓰기\n",
    "\n",
    "### JSON 포맷"
   ]
  },
  {
   "cell_type": "code",
   "execution_count": 1,
   "metadata": {},
   "outputs": [],
   "source": [
    "# file : test34_json_test.ipynb\n",
    "# desc : json 예제\n",
    "json_ex = '{ \"name\" : \"이주원\", \"age\" : 27 }'"
   ]
  },
  {
   "cell_type": "markdown",
   "metadata": {},
   "source": [
    "### JSON 읽기\n",
    "\n",
    "json 모듈 가져오기"
   ]
  },
  {
   "cell_type": "code",
   "execution_count": 2,
   "metadata": {},
   "outputs": [],
   "source": [
    "import json"
   ]
  },
  {
   "cell_type": "code",
   "execution_count": 10,
   "metadata": {},
   "outputs": [
    {
     "name": "stdout",
     "output_type": "stream",
     "text": [
      "{\n",
      "\t\"ionic\": {\n",
      "\t\t\"price\": 20000000,\n",
      "\t\t\"year\": \"2019\",\n",
      "\t\t\"auto\": true\n",
      "\t},\n",
      "\t\"genesis\": {\n",
      "\t\t\"price\": 80000000,\n",
      "\t\t\"year\": \"2022\",\n",
      "\t\t\"auto\": true\n",
      "\t},\n",
      "\t\"ferrari\": {\n",
      "\t\t\"price\": 15000000,\n",
      "\t\t\"year\": \"2020\",\n",
      "\t\t\"auto\": false\n",
      "\t}\n",
      "}\n"
     ]
    }
   ],
   "source": [
    "file = open('./car.json', mode='r', encoding='utf-8')\n",
    "data = json.load(file) # json 파일로 변환\n",
    "file.close\n",
    "\n",
    "print(json.dumps(data, indent='\\t')) # 문자열로 변경"
   ]
  },
  {
   "cell_type": "markdown",
   "metadata": {},
   "source": [
    "### JSON 사용"
   ]
  },
  {
   "cell_type": "code",
   "execution_count": 13,
   "metadata": {},
   "outputs": [
    {
     "data": {
      "text/plain": [
       "15000000"
      ]
     },
     "execution_count": 13,
     "metadata": {},
     "output_type": "execute_result"
    }
   ],
   "source": [
    "data['ferrari']['price']"
   ]
  },
  {
   "cell_type": "code",
   "execution_count": 15,
   "metadata": {},
   "outputs": [],
   "source": [
    "data['ferrari']['auto'] = True"
   ]
  },
  {
   "cell_type": "code",
   "execution_count": 16,
   "metadata": {},
   "outputs": [
    {
     "data": {
      "text/plain": [
       "{'ionic': {'price': 20000000, 'year': '2019', 'auto': True},\n",
       " 'genesis': {'price': 80000000, 'year': '2022', 'auto': True},\n",
       " 'ferrari': {'price': 15000000, 'year': '2020', 'auto': True}}"
      ]
     },
     "execution_count": 16,
     "metadata": {},
     "output_type": "execute_result"
    }
   ],
   "source": [
    "data"
   ]
  },
  {
   "cell_type": "markdown",
   "metadata": {},
   "source": [
    "## JSON 쓰기"
   ]
  },
  {
   "cell_type": "code",
   "execution_count": 20,
   "metadata": {},
   "outputs": [
    {
     "data": {
      "text/plain": [
       "{'audi': {'price': 300000000, 'year': '2024', 'auto': True},\n",
       " 'porsche': {'price': 1000000000, 'year': '2017', 'auto': True}}"
      ]
     },
     "execution_count": 20,
     "metadata": {},
     "output_type": "execute_result"
    }
   ],
   "source": [
    "supercars = dict() # json은 딕셔너리랑 완전히 일치, 생성시도 딕셔너리로 생성\n",
    "\n",
    "audi = dict()\n",
    "audi['price'] = 300000000\n",
    "audi['year'] = '2024'\n",
    "audi['auto'] = True\n",
    "\n",
    "porsche = dict()\n",
    "porsche['price'] = 1000000000\n",
    "porsche['year'] = '2017'\n",
    "porsche['auto'] = True\n",
    "\n",
    "supercars['audi'] = audi\n",
    "supercars['porsche'] = porsche\n",
    "\n",
    "supercars"
   ]
  },
  {
   "cell_type": "markdown",
   "metadata": {},
   "source": [
    "## JSON 파일 쓰기"
   ]
  },
  {
   "cell_type": "code",
   "execution_count": 26,
   "metadata": {},
   "outputs": [],
   "source": [
    "f = open('./supercars.json', mode='w', encoding='utf-8')\n",
    "json.dump(supercars, f, indent='\\t', ensure_ascii=True)\n",
    "f.close()"
   ]
  },
  {
   "cell_type": "code",
   "execution_count": 28,
   "metadata": {},
   "outputs": [],
   "source": [
    "## with -> python이 close()를 해준다.\n",
    "with open('./supercars2.json', mode='w', encoding='utf-8') as f2:\n",
    "    json.dump(supercars, f2, indent='\\t', ensure_ascii=True)"
   ]
  },
  {
   "cell_type": "code",
   "execution_count": 34,
   "metadata": {},
   "outputs": [
    {
     "name": "stdout",
     "output_type": "stream",
     "text": [
      "{\n",
      "\t\"audi\": {\n",
      "\t\t\"price\": 300000000,\n",
      "\t\t\"year\": \"2024\",\n",
      "\t\t\"auto\": true\n",
      "\t},\n",
      "\t\"porsche\": {\n",
      "\t\t\"price\": 1000000000,\n",
      "\t\t\"year\": \"2017\",\n",
      "\t\t\"auto\": true\n",
      "\t}\n",
      "}\n"
     ]
    }
   ],
   "source": [
    "with open('./supercars.json', mode='r', encoding='utf-8') as f3:\n",
    "    temp = json.load(f3)\n",
    "    print(json.dumps(temp, indent='\\t')) # 문자열로 변경"
   ]
  }
 ],
 "metadata": {
  "kernelspec": {
   "display_name": "Python 3",
   "language": "python",
   "name": "python3"
  },
  "language_info": {
   "codemirror_mode": {
    "name": "ipython",
    "version": 3
   },
   "file_extension": ".py",
   "mimetype": "text/x-python",
   "name": "python",
   "nbconvert_exporter": "python",
   "pygments_lexer": "ipython3",
   "version": "3.11.5"
  }
 },
 "nbformat": 4,
 "nbformat_minor": 2
}
